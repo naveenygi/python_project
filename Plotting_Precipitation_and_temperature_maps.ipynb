{
 "cells": [
  {
   "cell_type": "code",
   "execution_count": 11,
   "id": "badfb79d-d30f-4c5e-a1a8-d5b594727e46",
   "metadata": {},
   "outputs": [],
   "source": [
    "#importing the requried python package\n",
    "from netCDF4 import Dataset\n",
    "import numpy as np\n",
    "import matplotlib.pyplot as plt\n",
    "from mpl_toolkits.basemap import Basemap"
   ]
  },
  {
   "cell_type": "code",
   "execution_count": 12,
   "id": "a9ac5f6f-7529-419c-83c4-f6938178190c",
   "metadata": {},
   "outputs": [],
   "source": [
    "#Reading the netCDF4 precipitation and temperature dataset from the directory\n",
    "data_pre = Dataset(r'C:\\Users\\Naveen Yoganandam\\Projects\\Precipitaion\\data\\Precipitation_data_2011_2020.nc')\n",
    "data_temp = Dataset(r'C:\\Users\\Naveen Yoganandam\\Projects\\Temperature\\data\\Temperature_data_2011_2020.nc')"
   ]
  },
  {
   "cell_type": "code",
   "execution_count": 13,
   "id": "7e0cd461-8076-46b2-8827-6111bf774e37",
   "metadata": {},
   "outputs": [],
   "source": [
    "#Accessing the variables and declaring the new variables\n",
    "lat_pre = data_pre.variables['lat'][:]\n",
    "long_pre = data_pre.variables['lon'][:]\n",
    "time_pre = data_pre.variables['time'][:]\n",
    "pre = data_pre.variables['pre'][:]"
   ]
  },
  {
   "cell_type": "code",
   "execution_count": 14,
   "id": "2b13782c-d8bf-4342-b2ce-1e47fb25b468",
   "metadata": {},
   "outputs": [],
   "source": [
    "#Accessing the variables and declaring the new variables\n",
    "lat_temp = data_temp.variables['lat'][:]\n",
    "long_temp = data_temp.variables['lon'][:]\n",
    "time_temp = data_temp.variables['time'][:]\n",
    "temp = data_temp.variables['tmp'][:]"
   ]
  },
  {
   "cell_type": "code",
   "execution_count": 26,
   "id": "5e9cfec9-d7ce-4eb8-8335-5b9c037dc35d",
   "metadata": {},
   "outputs": [
    {
     "name": "stderr",
     "output_type": "stream",
     "text": [
      "C:\\Users\\NAVEEN~1\\AppData\\Local\\Temp/ipykernel_12132/283015377.py:32: MatplotlibDeprecationWarning: shading='flat' when X and Y have the same dimensions as C is deprecated since 3.3.  Either specify the corners of the quadrilaterals with X and Y, or pass shading='auto', 'nearest' or 'gouraud', or set rcParams['pcolor.shading'].  This will become an error two minor releases later.\n",
      "  c_scheme_pre = mp_pre.pcolor(x, y, np.squeeze(pre[0,:,:]), cmap = 'gist_ncar')\n",
      "C:\\Users\\NAVEEN~1\\AppData\\Local\\Temp/ipykernel_12132/283015377.py:37: MatplotlibDeprecationWarning: shading='flat' when X and Y have the same dimensions as C is deprecated since 3.3.  Either specify the corners of the quadrilaterals with X and Y, or pass shading='auto', 'nearest' or 'gouraud', or set rcParams['pcolor.shading'].  This will become an error two minor releases later.\n",
      "  c_scheme_temp = mp_temp.pcolor(x, y, np.squeeze(temp[0,:,:]), cmap = 'jet')\n"
     ]
    },
    {
     "data": {
      "image/png": "[encoded data removed]",
      "text/plain": [
       "<Figure size 432x288 with 4 Axes>"
      ]
     },
     "metadata": {
      "needs_background": "light"
     },
     "output_type": "display_data"
    },
    {
     "data": {
      "text/plain": [
       "<Figure size 432x288 with 0 Axes>"
      ]
     },
     "metadata": {},
     "output_type": "display_data"
    }
   ],
   "source": [
    "#Declaring figure and subplots of the basemap\n",
    "fig = plt.figure()\n",
    "ax1 = plt.subplot2grid((2,2), (0,0))\n",
    "ax2 = plt.subplot2grid((2,2), (1,0))\n",
    "\n",
    "#Declaring the preciptation map by the matpltlib basemap package\n",
    "ax1.set_title(\"Average Precipitation of India 2011-2020\")\n",
    "mp_pre = Basemap(projection = 'merc',\n",
    "             llcrnrlon = 66.611474,\n",
    "             llcrnrlat = 3.695643,\n",
    "             urcrnrlon = 90.644330,\n",
    "             urcrnrlat = 36.758681,\n",
    "             resolution = 'i',\n",
    "             ax=ax1)\n",
    "\n",
    "#Declaring the preciptation map by the matpltlib basemap package\n",
    "ax2.set_title(\"Average Temperature of India 2011-2020\")\n",
    "mp_temp = Basemap(projection = 'merc',\n",
    "             llcrnrlon = 66.611474,\n",
    "             llcrnrlat = 3.695643,\n",
    "             urcrnrlon = 90.644330,\n",
    "             urcrnrlat = 36.758681,\n",
    "             resolution = 'i',\n",
    "             ax=ax2)\n",
    "\n",
    "lon, lat = np.meshgrid(long_pre,lat_pre)\n",
    "lon, lat = np.meshgrid(long_temp,lat_temp)\n",
    "x,y = mp_pre(lon, lat)\n",
    "x,y = mp_temp(lon, lat)\n",
    "\n",
    "#Declaring the colour scheme  of the maps \n",
    "c_scheme_pre = mp_pre.pcolor(x, y, np.squeeze(pre[0,:,:]), cmap = 'gist_ncar')\n",
    "mp_pre.drawcoastlines()\n",
    "mp_pre.drawstates()\n",
    "mp_pre.drawcountries()\n",
    "\n",
    "c_scheme_temp = mp_temp.pcolor(x, y, np.squeeze(temp[0,:,:]), cmap = 'jet')\n",
    "mp_temp.drawcoastlines()\n",
    "mp_temp.drawstates()\n",
    "mp_temp.drawcountries()\n",
    "\n",
    "cbar = mp_pre.colorbar(c_scheme_pre, location = 'right', pad = '10%')\n",
    "cbar = mp_temp.colorbar(c_scheme_temp, location = 'right', pad = '10%')\n",
    "\n",
    "#plotting the map\n",
    "plt.show()\n",
    "\n",
    "#export as pdf\n",
    "plt.savefig(\"output.pdf\")\n"
   ]
  },
  {
   "cell_type": "code",
   "execution_count": null,
   "id": "2e2e4d37-6b1f-4c69-bdbb-2256c21c22bc",
   "metadata": {},
   "outputs": [],
   "source": []
  }
 ],
 "metadata": {
  "kernelspec": {
   "display_name": "Python 3 (ipykernel)",
   "language": "python",
   "name": "python3"
  },
  "language_info": {
   "codemirror_mode": {
    "name": "ipython",
    "version": 3
   },
   "file_extension": ".py",
   "mimetype": "text/x-python",
   "name": "python",
   "nbconvert_exporter": "python",
   "pygments_lexer": "ipython3",
   "version": "3.8.12"
  }
 },
 "nbformat": 4,
 "nbformat_minor": 5
}
