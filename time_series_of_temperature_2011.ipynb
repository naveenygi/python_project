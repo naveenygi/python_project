{
 "cells": [
  {
   "cell_type": "code",
   "execution_count": 46,
   "id": "ac0b5f87-08da-4a86-8ed9-160db78a853f",
   "metadata": {},
   "outputs": [],
   "source": [
    "#importing the requried python package \n",
    "%matplotlib inline\n",
    "from netCDF4 import Dataset\n",
    "import numpy as np\n",
    "import matplotlib.pyplot as plt\n",
    "from mpl_toolkits.basemap import Basemap\n",
    "import PIL"
   ]
  },
  {
   "cell_type": "code",
   "execution_count": 47,
   "id": "fbce1faf-036b-433f-a47a-47c274627b4f",
   "metadata": {},
   "outputs": [],
   "source": [
    "#Reading the netCDF4 precipitation and temperature dataset from the directory\n",
    "data_temp = Dataset(r'C:\\Users\\Naveen Yoganandam\\Projects\\Temperature\\data\\Temperature_data_2011_2020.nc')"
   ]
  },
  {
   "cell_type": "code",
   "execution_count": 48,
   "id": "b244e87c-b4e7-4c6a-9879-ddaa733d5810",
   "metadata": {},
   "outputs": [],
   "source": [
    "#Accessing the variables and declaring the new variables\n",
    "lat_temp = data_temp.variables['lat'][:]\n",
    "long_temp = data_temp.variables['lon'][:]\n",
    "time_temp = data_temp.variables['time'][:]\n",
    "temp = data_temp.variables['tmp'][:]"
   ]
  },
  {
   "cell_type": "code",
   "execution_count": 49,
   "id": "a2807a0f-02c8-4749-912a-0302077f2ab9",
   "metadata": {},
   "outputs": [
    {
     "name": "stderr",
     "output_type": "stream",
     "text": [
      "C:\\Users\\NAVEEN~1\\AppData\\Local\\Temp/ipykernel_4920/750401971.py:13: MatplotlibDeprecationWarning: shading='flat' when X and Y have the same dimensions as C is deprecated since 3.3.  Either specify the corners of the quadrilaterals with X and Y, or pass shading='auto', 'nearest' or 'gouraud', or set rcParams['pcolor.shading'].  This will become an error two minor releases later.\n",
      "  c_scheme_temp = mp_temp.pcolor(x, y, np.squeeze(temp[0,:,:]), cmap = 'jet')\n"
     ]
    },
    {
     "data": {
      "image/png": "[encoded data removed]",
      "text/plain": [
       "<Figure size 432x288 with 2 Axes>"
      ]
     },
     "metadata": {
      "needs_background": "light"
     },
     "output_type": "display_data"
    }
   ],
   "source": [
    "#Declaring the preciptation map by the matpltlib basemap package\n",
    "mp_temp = Basemap(projection = 'merc',\n",
    "             llcrnrlon = 66.611474,\n",
    "             llcrnrlat = 3.695643,\n",
    "             urcrnrlon = 90.644330,\n",
    "             urcrnrlat = 36.758681,\n",
    "             resolution = 'i')\n",
    "\n",
    "lon, lat = np.meshgrid(long_temp,lat_temp)\n",
    "x,y = mp_temp(lon, lat)\n",
    "\n",
    "#Declaring the colour scheme  of the maps \n",
    "c_scheme_temp = mp_temp.pcolor(x, y, np.squeeze(temp[0,:,:]), cmap = 'jet')\n",
    "mp_temp.drawcoastlines()\n",
    "mp_temp.drawstates()\n",
    "mp_temp.drawcountries()\n",
    "\n",
    "cbar = mp_temp.colorbar(c_scheme_temp, location = 'right', pad = '10%')\n",
    "plt.show()"
   ]
  },
  {
   "cell_type": "code",
   "execution_count": 50,
   "id": "0a06d33b-c5e1-4955-9cea-a1a67f19ddf1",
   "metadata": {},
   "outputs": [
    {
     "name": "stderr",
     "output_type": "stream",
     "text": [
      "C:\\Users\\NAVEEN~1\\AppData\\Local\\Temp/ipykernel_4920/3824502453.py:10: MatplotlibDeprecationWarning: shading='flat' when X and Y have the same dimensions as C is deprecated since 3.3.  Either specify the corners of the quadrilaterals with X and Y, or pass shading='auto', 'nearest' or 'gouraud', or set rcParams['pcolor.shading'].  This will become an error two minor releases later.\n",
      "  c_scheme_temp = mp_temp.pcolor(x, y, np.squeeze(temp[i,:,:]), cmap = 'jet')\n"
     ]
    },
    {
     "ename": "IndexError",
     "evalue": "index 120 is out of bounds for axis 0 with size 120",
     "output_type": "error",
     "traceback": [
      "\u001b[1;31m---------------------------------------------------------------------------\u001b[0m",
      "\u001b[1;31mIndexError\u001b[0m                                Traceback (most recent call last)",
      "\u001b[1;32mC:\\Users\\NAVEEN~1\\AppData\\Local\\Temp/ipykernel_4920/3824502453.py\u001b[0m in \u001b[0;36m<module>\u001b[1;34m\u001b[0m\n\u001b[0;32m      8\u001b[0m \u001b[1;32mfor\u001b[0m \u001b[0mi\u001b[0m \u001b[1;32min\u001b[0m \u001b[0mdays\u001b[0m\u001b[1;33m:\u001b[0m\u001b[1;33m\u001b[0m\u001b[1;33m\u001b[0m\u001b[0m\n\u001b[0;32m      9\u001b[0m \u001b[1;33m\u001b[0m\u001b[0m\n\u001b[1;32m---> 10\u001b[1;33m     \u001b[0mc_scheme_temp\u001b[0m \u001b[1;33m=\u001b[0m \u001b[0mmp_temp\u001b[0m\u001b[1;33m.\u001b[0m\u001b[0mpcolor\u001b[0m\u001b[1;33m(\u001b[0m\u001b[0mx\u001b[0m\u001b[1;33m,\u001b[0m \u001b[0my\u001b[0m\u001b[1;33m,\u001b[0m \u001b[0mnp\u001b[0m\u001b[1;33m.\u001b[0m\u001b[0msqueeze\u001b[0m\u001b[1;33m(\u001b[0m\u001b[0mtemp\u001b[0m\u001b[1;33m[\u001b[0m\u001b[0mi\u001b[0m\u001b[1;33m,\u001b[0m\u001b[1;33m:\u001b[0m\u001b[1;33m,\u001b[0m\u001b[1;33m:\u001b[0m\u001b[1;33m]\u001b[0m\u001b[1;33m)\u001b[0m\u001b[1;33m,\u001b[0m \u001b[0mcmap\u001b[0m \u001b[1;33m=\u001b[0m \u001b[1;34m'jet'\u001b[0m\u001b[1;33m)\u001b[0m\u001b[1;33m\u001b[0m\u001b[1;33m\u001b[0m\u001b[0m\n\u001b[0m\u001b[0;32m     11\u001b[0m     \u001b[0mmp_temp\u001b[0m\u001b[1;33m.\u001b[0m\u001b[0mdrawcoastlines\u001b[0m\u001b[1;33m(\u001b[0m\u001b[1;33m)\u001b[0m\u001b[1;33m\u001b[0m\u001b[1;33m\u001b[0m\u001b[0m\n\u001b[0;32m     12\u001b[0m     \u001b[0mmp_temp\u001b[0m\u001b[1;33m.\u001b[0m\u001b[0mdrawstates\u001b[0m\u001b[1;33m(\u001b[0m\u001b[1;33m)\u001b[0m\u001b[1;33m\u001b[0m\u001b[1;33m\u001b[0m\u001b[0m\n",
      "\u001b[1;32mC:\\anaconda3\\envs\\geo_env\\lib\\site-packages\\numpy\\ma\\core.py\u001b[0m in \u001b[0;36m__getitem__\u001b[1;34m(self, indx)\u001b[0m\n\u001b[0;32m   3186\u001b[0m         \u001b[1;31m# mask of being reshaped if it hasn't been set up properly yet\u001b[0m\u001b[1;33m\u001b[0m\u001b[1;33m\u001b[0m\u001b[1;33m\u001b[0m\u001b[0m\n\u001b[0;32m   3187\u001b[0m         \u001b[1;31m# So it's easier to stick to the current version\u001b[0m\u001b[1;33m\u001b[0m\u001b[1;33m\u001b[0m\u001b[1;33m\u001b[0m\u001b[0m\n\u001b[1;32m-> 3188\u001b[1;33m         \u001b[0mdout\u001b[0m \u001b[1;33m=\u001b[0m \u001b[0mself\u001b[0m\u001b[1;33m.\u001b[0m\u001b[0mdata\u001b[0m\u001b[1;33m[\u001b[0m\u001b[0mindx\u001b[0m\u001b[1;33m]\u001b[0m\u001b[1;33m\u001b[0m\u001b[1;33m\u001b[0m\u001b[0m\n\u001b[0m\u001b[0;32m   3189\u001b[0m         \u001b[0m_mask\u001b[0m \u001b[1;33m=\u001b[0m \u001b[0mself\u001b[0m\u001b[1;33m.\u001b[0m\u001b[0m_mask\u001b[0m\u001b[1;33m\u001b[0m\u001b[1;33m\u001b[0m\u001b[0m\n\u001b[0;32m   3190\u001b[0m \u001b[1;33m\u001b[0m\u001b[0m\n",
      "\u001b[1;31mIndexError\u001b[0m: index 120 is out of bounds for axis 0 with size 120"
     ]
    },
    {
     "data": {
      "text/plain": [
       "<Figure size 432x288 with 0 Axes>"
      ]
     },
     "metadata": {},
     "output_type": "display_data"
    }
   ],
   "source": [
    "#creating timeseries of the temperature of the year 2011\n",
    "%matplotlib inline\n",
    "\n",
    "#total days in dataset = 120 days\n",
    "days = np.arange(0, 121)\n",
    "\n",
    "#Creating for loop to produce individual day images\n",
    "for i in days:\n",
    "\n",
    "    c_scheme_temp = mp_temp.pcolor(x, y, np.squeeze(temp[i,:,:]), cmap = 'jet')\n",
    "    mp_temp.drawcoastlines()\n",
    "    mp_temp.drawstates()\n",
    "    mp_temp.drawcountries()\n",
    "    \n",
    "    cbar = mp_temp.colorbar(c_scheme_temp, location = 'right', pad = '10%')\n",
    "    \n",
    "    day = i+1\n",
    "\n",
    "    plt.title('Average Temparature: Day ' + str(day) + ' of Year 2011' )\n",
    "    plt.clim(-40, 40)\n",
    "    plt.savefig(r'C:\\Users\\Naveen Yoganandam\\Projects\\Temperature\\output\\time_lapse'+'\\\\'+ str(day)+'.jpg')\n",
    "    plt.clf()\n",
    "  \n",
    "    "
   ]
  },
  {
   "cell_type": "code",
   "execution_count": 51,
   "id": "0ad654bd-52d7-4731-8942-1af03d0e1132",
   "metadata": {},
   "outputs": [],
   "source": [
    "#creating gif file using the images produced\n",
    "image_frames = []\n",
    "\n",
    "days = np.arange(1,121)\n",
    "\n",
    "for k in days:\n",
    "    new_frame = PIL.Image.open(r'C:\\Users\\Naveen Yoganandam\\Projects\\Temperature\\output\\time_lapse' + '\\\\' + str(k) + '.jpg')\n",
    "    image_frames.append(new_frame)\n",
    "    \n",
    "image_frames[0].save('temparature_timelapse.gif', format = 'GIF', \n",
    "            append_images = image_frames[1: ], \n",
    "            save_all = True, duration = 200, \n",
    "            loop = 0)\n",
    "\n"
   ]
  },
  {
   "cell_type": "code",
   "execution_count": null,
   "id": "f1d7b2d6-ce0c-4caa-b8d5-488f1e6bab08",
   "metadata": {},
   "outputs": [],
   "source": []
  }
 ],
 "metadata": {
  "kernelspec": {
   "display_name": "Python 3 (ipykernel)",
   "language": "python",
   "name": "python3"
  },
  "language_info": {
   "codemirror_mode": {
    "name": "ipython",
    "version": 3
   },
   "file_extension": ".py",
   "mimetype": "text/x-python",
   "name": "python",
   "nbconvert_exporter": "python",
   "pygments_lexer": "ipython3",
   "version": "3.8.12"
  }
 },
 "nbformat": 4,
 "nbformat_minor": 5
}
